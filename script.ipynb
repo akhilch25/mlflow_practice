{
 "cells": [
  {
   "cell_type": "code",
   "execution_count": 33,
   "metadata": {},
   "outputs": [
    {
     "name": "stdout",
     "output_type": "stream",
     "text": [
      "0.4987125259694667\n"
     ]
    }
   ],
   "source": [
    "\n",
    "import mlflow.sklearn\n",
    "import pandas as pd\n",
    "from sklearn.model_selection import train_test_split\n",
    "from sklearn.linear_model import LinearRegression\n",
    "from sklearn.metrics import r2_score\n",
    "import matplotlib.pyplot as plt\n",
    "\n",
    "# Load dataset\n",
    "data = pd.read_csv('Salary_Data.csv')\n",
    "\n",
    "# Drop missing values\n",
    "data.dropna(inplace=True)\n",
    "\n",
    "# Define features and target variable\n",
    "X = data[['Years of Experience']]  # Feature\n",
    "y = data['Salary']  # Target variable\n",
    "\n",
    "# Split data into training and test sets\n",
    "X_train, X_test, y_train, y_test = train_test_split(X, y, test_size=0.1, random_state=71)\n",
    "\n",
    "# Initialize the Linear Regression model\n",
    "model = LinearRegression()\n",
    "model.fit(X_train, y_train)\n",
    "y_pred=model.predict(X_test)\n",
    "r2=r2_score(y_pred,y_test)\n",
    "print(r2)"
   ]
  },
  {
   "cell_type": "code",
   "execution_count": 36,
   "metadata": {},
   "outputs": [
    {
     "name": "stderr",
     "output_type": "stream",
     "text": [
      "2024/10/24 11:48:25 WARNING mlflow.models.model: Model logged without a signature and input example. Please set `input_example` parameter when logging the model to auto infer the model signature.\n",
      "2024/10/24 11:48:25 INFO mlflow.tracking._tracking_service.client: 🏃 View run Harsha's exp. at: http://127.0.0.1:5000/#/experiments/209282172035771208/runs/5686acf17c9247dc8d59187312127837.\n",
      "2024/10/24 11:48:25 INFO mlflow.tracking._tracking_service.client: 🧪 View experiment at: http://127.0.0.1:5000/#/experiments/209282172035771208.\n"
     ]
    }
   ],
   "source": [
    "import mlflow\n",
    "mlflow.set_experiment(\"Salary Prediction\")\n",
    "mlflow.set_tracking_uri('http://127.0.0.1:5000/')\n",
    "\n",
    "with mlflow.start_run(run_name=\"Harsha's exp.\"):\n",
    "    mlflow.log_params({\n",
    "        \"test_size\": 0.1,\n",
    "        \"random_state\": 71\n",
    "    })\n",
    "    mlflow.log_metric('r2_score', r2)\n",
    "    mlflow.sklearn.log_model(model, \"Linear regression\")"
   ]
  },
  {
   "cell_type": "code",
   "execution_count": 37,
   "metadata": {},
   "outputs": [
    {
     "name": "stderr",
     "output_type": "stream",
     "text": [
      "Successfully registered model 'Linear Regression'.\n",
      "2024/10/24 11:51:00 INFO mlflow.store.model_registry.abstract_store: Waiting up to 300 seconds for model version to finish creation. Model name: Linear Regression, version 1\n",
      "Created version '1' of model 'Linear Regression'.\n"
     ]
    },
    {
     "data": {
      "text/plain": [
       "<ModelVersion: aliases=[], creation_timestamp=1729750860665, current_stage='None', description='', last_updated_timestamp=1729750860665, name='Linear Regression', run_id='5686acf17c9247dc8d59187312127837', run_link='', source=('mlflow-artifacts:/209282172035771208/5686acf17c9247dc8d59187312127837/artifacts/Linear '\n",
       " 'regression'), status='READY', status_message='', tags={}, user_id='', version='1'>"
      ]
     },
     "execution_count": 37,
     "metadata": {},
     "output_type": "execute_result"
    }
   ],
   "source": [
    "model_uri = 'runs:/5686acf17c9247dc8d59187312127837/Linear regression'\n",
    "mlflow.register_model(model_uri,\"Linear Regression\")"
   ]
  }
 ],
 "metadata": {
  "kernelspec": {
   "display_name": "mlops",
   "language": "python",
   "name": "python3"
  },
  "language_info": {
   "codemirror_mode": {
    "name": "ipython",
    "version": 3
   },
   "file_extension": ".py",
   "mimetype": "text/x-python",
   "name": "python",
   "nbconvert_exporter": "python",
   "pygments_lexer": "ipython3",
   "version": "3.12.4"
  }
 },
 "nbformat": 4,
 "nbformat_minor": 2
}
